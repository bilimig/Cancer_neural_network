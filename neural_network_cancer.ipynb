{
  "nbformat": 4,
  "nbformat_minor": 0,
  "metadata": {
    "colab": {
      "provenance": []
    },
    "kernelspec": {
      "name": "python3",
      "display_name": "Python 3"
    },
    "language_info": {
      "name": "python"
    }
  },
  "cells": [
    {
      "cell_type": "code",
      "source": [
        "import torch\n",
        "import torch.nn as nn\n",
        "import torch.nn.functional as F\n",
        "import pandas as pd\n",
        "from sklearn.model_selection import train_test_split\n",
        "import matplotlib.pyplot as plt\n",
        "%matplotlib inline"
      ],
      "metadata": {
        "id": "7f9rXW-ubiYp"
      },
      "execution_count": 35,
      "outputs": []
    },
    {
      "cell_type": "code",
      "execution_count": 36,
      "metadata": {
        "id": "RzMZe5z7bC1r"
      },
      "outputs": [],
      "source": [
        "\n",
        "# Tworzenie klasy Modeli ktora zawiera nn.Module\n",
        "class Model2(nn.Module):\n",
        "  #input layer(30) 2x hidden layer(8) output layer(2)\n",
        "  def __init__(self, in_features=30, h1=8, h2=8, out_features=2):\n",
        "    super().__init__()\n",
        "    self.fc1 = nn.Linear(in_features, h1)\n",
        "    self.fc2 = nn.Linear(h1, h2)\n",
        "    self.out = nn.Linear(h2, out_features)\n",
        "\n",
        "  def forward(self, x):\n",
        "    x = F.relu(self.fc1(x))\n",
        "    x = F.relu(self.fc2(x))\n",
        "    x = self.out(x)\n",
        "\n",
        "    return x\n",
        "\n"
      ]
    },
    {
      "cell_type": "code",
      "source": [
        "df = pd.read_csv('cancer.csv')\n",
        "df = df[[col for col in df.columns if col != 'diagnosis(1=m, 0=b)'] + ['diagnosis(1=m, 0=b)']]\n",
        "df.rename(columns={'diagnosis(1=m, 0=b)': 'output'}, inplace=True)"
      ],
      "metadata": {
        "id": "CT8KvSkGbNeh"
      },
      "execution_count": 37,
      "outputs": []
    },
    {
      "cell_type": "code",
      "source": [
        "model2 = Model2()\n",
        "torch.manual_seed(420213769)\n",
        "X_cancer = df.drop('output', axis=1)\n",
        "y_cancer = df['output']\n",
        "X_cancer = X_cancer.values\n",
        "y_cancer = y_cancer.values\n",
        "X_cancer_train, X_cancer_test, y_cancer_train, y_cancer_test = train_test_split(X_cancer,y_cancer,test_size = 0.2, random_state = 420213769)\n",
        "\n",
        "X_cancer_train = torch.FloatTensor(X_cancer_train)\n",
        "X_cancer_test = torch.FloatTensor(X_cancer_test)\n",
        "y_cancer_train = torch.LongTensor(y_cancer_train)\n",
        "y_cancer_test = torch.LongTensor(y_cancer_test)\n",
        "# Criterion (loss)\n",
        "criterion = nn.CrossEntropyLoss()\n",
        "# Optimizer = Adam, lr\n",
        "optimizer = torch.optim.Adam(model2.parameters(), lr=0.001)\n"
      ],
      "metadata": {
        "id": "ekQXWdavbDXh"
      },
      "execution_count": 38,
      "outputs": []
    },
    {
      "cell_type": "code",
      "source": [
        "# Train our model\n",
        "epochs = 5000\n",
        "losses = []\n",
        "accuracies = []\n",
        "for i in range(epochs):\n",
        "  #Go foward\n",
        "  y_cancer_pred = model2.forward(X_cancer_train)\n",
        "\n",
        "  #mierznie lossa\n",
        "  loss = criterion(y_cancer_pred, y_cancer_train)\n",
        "  losses.append(loss.detach().numpy())\n",
        "  #mierzenie dokladnosci\n",
        "  _, predicted = torch.max(y_cancer_pred, 1)\n",
        "  correct = (predicted == y_cancer_train).sum().item()\n",
        "  accuracy = correct / y_cancer_train.size(0)\n",
        "  accuracies.append(accuracy)\n",
        "\n",
        "  if i % 100 == 0:\n",
        "    print(f'epochs: {i} and loss: {loss}Accuracy: {accuracy}')\n",
        "  #backpropagation\n",
        "  optimizer.zero_grad()\n",
        "  loss.backward()\n",
        "  optimizer.step()\n",
        "\n"
      ],
      "metadata": {
        "colab": {
          "base_uri": "https://localhost:8080/"
        },
        "id": "Oup7YqoabM5r",
        "outputId": "05ac8e5b-93a4-434b-cf6b-6a8b19a16352"
      },
      "execution_count": 39,
      "outputs": [
        {
          "output_type": "stream",
          "name": "stdout",
          "text": [
            "epochs: 0 and loss: 1.3787899017333984Accuracy: 0.37142857142857144\n",
            "epochs: 100 and loss: 0.2592024505138397Accuracy: 0.9098901098901099\n",
            "epochs: 200 and loss: 0.21864302456378937Accuracy: 0.9142857142857143\n",
            "epochs: 300 and loss: 0.20401598513126373Accuracy: 0.9208791208791208\n",
            "epochs: 400 and loss: 0.19366759061813354Accuracy: 0.9230769230769231\n",
            "epochs: 500 and loss: 0.1842813640832901Accuracy: 0.9230769230769231\n",
            "epochs: 600 and loss: 0.17549647390842438Accuracy: 0.9274725274725275\n",
            "epochs: 700 and loss: 0.1673281043767929Accuracy: 0.9340659340659341\n",
            "epochs: 800 and loss: 0.1597912758588791Accuracy: 0.9318681318681319\n",
            "epochs: 900 and loss: 0.1525183916091919Accuracy: 0.9340659340659341\n",
            "epochs: 1000 and loss: 0.1447092890739441Accuracy: 0.9362637362637363\n",
            "epochs: 1100 and loss: 0.1354854553937912Accuracy: 0.9406593406593406\n",
            "epochs: 1200 and loss: 0.12419187277555466Accuracy: 0.9428571428571428\n",
            "epochs: 1300 and loss: 0.11200373619794846Accuracy: 0.9472527472527472\n",
            "epochs: 1400 and loss: 0.10161136835813522Accuracy: 0.9582417582417583\n",
            "epochs: 1500 and loss: 0.09409485757350922Accuracy: 0.9494505494505494\n",
            "epochs: 1600 and loss: 0.08892634510993958Accuracy: 0.9560439560439561\n",
            "epochs: 1700 and loss: 0.08542468398809433Accuracy: 0.9560439560439561\n",
            "epochs: 1800 and loss: 0.0828021690249443Accuracy: 0.9582417582417583\n",
            "epochs: 1900 and loss: 0.08080913871526718Accuracy: 0.9582417582417583\n",
            "epochs: 2000 and loss: 0.07914508134126663Accuracy: 0.9582417582417583\n",
            "epochs: 2100 and loss: 0.07785717397928238Accuracy: 0.9582417582417583\n",
            "epochs: 2200 and loss: 0.07653024047613144Accuracy: 0.9604395604395605\n",
            "epochs: 2300 and loss: 0.07541558146476746Accuracy: 0.9604395604395605\n",
            "epochs: 2400 and loss: 0.07444154471158981Accuracy: 0.9626373626373627\n",
            "epochs: 2500 and loss: 0.07352762669324875Accuracy: 0.9626373626373627\n",
            "epochs: 2600 and loss: 0.07278384268283844Accuracy: 0.9648351648351648\n",
            "epochs: 2700 and loss: 0.07192560285329819Accuracy: 0.967032967032967\n",
            "epochs: 2800 and loss: 0.07117403298616409Accuracy: 0.967032967032967\n",
            "epochs: 2900 and loss: 0.07049911469221115Accuracy: 0.967032967032967\n",
            "epochs: 3000 and loss: 0.06983260810375214Accuracy: 0.967032967032967\n",
            "epochs: 3100 and loss: 0.06925292313098907Accuracy: 0.9692307692307692\n",
            "epochs: 3200 and loss: 0.0686166062951088Accuracy: 0.9692307692307692\n",
            "epochs: 3300 and loss: 0.06802184879779816Accuracy: 0.9692307692307692\n",
            "epochs: 3400 and loss: 0.0674998089671135Accuracy: 0.9736263736263736\n",
            "epochs: 3500 and loss: 0.06691990047693253Accuracy: 0.9714285714285714\n",
            "epochs: 3600 and loss: 0.06965183466672897Accuracy: 0.9714285714285714\n",
            "epochs: 3700 and loss: 0.06586658954620361Accuracy: 0.9714285714285714\n",
            "epochs: 3800 and loss: 0.06534072756767273Accuracy: 0.9714285714285714\n",
            "epochs: 3900 and loss: 0.06486961245536804Accuracy: 0.9714285714285714\n",
            "epochs: 4000 and loss: 0.06437729299068451Accuracy: 0.9736263736263736\n",
            "epochs: 4100 and loss: 0.06388786435127258Accuracy: 0.9714285714285714\n",
            "epochs: 4200 and loss: 0.06342869251966476Accuracy: 0.9714285714285714\n",
            "epochs: 4300 and loss: 0.06295104324817657Accuracy: 0.9736263736263736\n",
            "epochs: 4400 and loss: 0.06258120387792587Accuracy: 0.9758241758241758\n",
            "epochs: 4500 and loss: 0.062039125710725784Accuracy: 0.9758241758241758\n",
            "epochs: 4600 and loss: 0.06245884671807289Accuracy: 0.9736263736263736\n",
            "epochs: 4700 and loss: 0.06114691123366356Accuracy: 0.9758241758241758\n",
            "epochs: 4800 and loss: 0.06168917566537857Accuracy: 0.978021978021978\n",
            "epochs: 4900 and loss: 0.0602673701941967Accuracy: 0.9758241758241758\n"
          ]
        }
      ]
    },
    {
      "cell_type": "code",
      "source": [
        "plt.plot(range(epochs), accuracies, label='Accuracy')\n",
        "plt.xlabel('Epochs')\n",
        "plt.ylabel('Accuracy')\n",
        "plt.title('Accuracy Over Epochs')\n",
        "plt.legend()\n",
        "plt.show()"
      ],
      "metadata": {
        "colab": {
          "base_uri": "https://localhost:8080/",
          "height": 472
        },
        "id": "OFzroF1zciJk",
        "outputId": "1af3b092-0b08-430c-88ae-51bc589d7a4b"
      },
      "execution_count": 40,
      "outputs": [
        {
          "output_type": "display_data",
          "data": {
            "text/plain": [
              "<Figure size 640x480 with 1 Axes>"
            ],
            "image/png": "[encoded data removed]"
          },
          "metadata": {}
        }
      ]
    },
    {
      "cell_type": "code",
      "source": [
        "plt.plot(range(epochs),losses)\n",
        "plt.ylabel(\"loss\")\n",
        "plt.xlabel(\"epoch\")"
      ],
      "metadata": {
        "colab": {
          "base_uri": "https://localhost:8080/",
          "height": 466
        },
        "id": "zjdZ0d_nbem2",
        "outputId": "1d56b9b7-4166-4cdd-ee8d-1d66b57441b3"
      },
      "execution_count": 41,
      "outputs": [
        {
          "output_type": "execute_result",
          "data": {
            "text/plain": [
              "Text(0.5, 0, 'epoch')"
            ]
          },
          "metadata": {},
          "execution_count": 41
        },
        {
          "output_type": "display_data",
          "data": {
            "text/plain": [
              "<Figure size 640x480 with 1 Axes>"
            ],
            "image/png": "[encoded data removed]"
          },
          "metadata": {}
        }
      ]
    },
    {
      "cell_type": "code",
      "source": [
        "with torch.no_grad(): #turn off back prop\n",
        "  y_cancer_eval = model2.forward(X_cancer_test) # testowanko\n",
        "  loss = criterion(y_cancer_eval, y_cancer_test)"
      ],
      "metadata": {
        "id": "ezcCCtmLcbce"
      },
      "execution_count": 42,
      "outputs": []
    },
    {
      "cell_type": "markdown",
      "source": [],
      "metadata": {
        "id": "ALD7GKj-eFkJ"
      }
    },
    {
      "cell_type": "code",
      "source": [
        "loss"
      ],
      "metadata": {
        "colab": {
          "base_uri": "https://localhost:8080/"
        },
        "id": "JUJGxK0LcytU",
        "outputId": "1f987350-6ef4-4166-90c8-3954966ec9cc"
      },
      "execution_count": 43,
      "outputs": [
        {
          "output_type": "execute_result",
          "data": {
            "text/plain": [
              "tensor(0.1042)"
            ]
          },
          "metadata": {},
          "execution_count": 43
        }
      ]
    },
    {
      "cell_type": "code",
      "source": [
        "correct = 0\n",
        "count = 0\n",
        "with torch.no_grad():\n",
        "  for i, data in enumerate(X_cancer_test):\n",
        "    y_val = model2.forward(data)\n",
        "\n",
        "\n",
        "\n",
        "    # Will tell us what type of flower class our network thinks it is\n",
        "    print(f'{i+1}.)  {str(y_val)} \\t {y_cancer_test[i]} \\t {y_val.argmax().item()}')\n",
        "\n",
        "    # Correct or not\n",
        "    if y_val.argmax().item() == y_cancer_test[i]:\n",
        "      correct +=1\n",
        "    count +=1\n",
        "\n",
        "print(f'We got {correct}/{count} correct!')"
      ],
      "metadata": {
        "colab": {
          "base_uri": "https://localhost:8080/"
        },
        "id": "PdBB8lXscjsA",
        "outputId": "61411d90-be1b-4038-f201-5c9ea20b320b"
      },
      "execution_count": 44,
      "outputs": [
        {
          "output_type": "stream",
          "name": "stdout",
          "text": [
            "1.)  tensor([-25.7229, -12.1771]) \t 1 \t 1\n",
            "2.)  tensor([ -7.6617, -14.1476]) \t 0 \t 0\n",
            "3.)  tensor([ -3.3222, -13.8324]) \t 0 \t 0\n",
            "4.)  tensor([ -9.1109, -11.1128]) \t 0 \t 0\n",
            "5.)  tensor([-20.7861, -13.0979]) \t 1 \t 1\n",
            "6.)  tensor([-45.9482, -13.2781]) \t 1 \t 1\n",
            "7.)  tensor([-19.2422, -12.4258]) \t 1 \t 1\n",
            "8.)  tensor([-69.9729,  -8.0452]) \t 1 \t 1\n",
            "9.)  tensor([ -5.8308, -14.8945]) \t 0 \t 0\n",
            "10.)  tensor([-37.9097,  -6.9055]) \t 1 \t 1\n",
            "11.)  tensor([ -5.8887, -13.5569]) \t 0 \t 0\n",
            "12.)  tensor([ -5.6738, -11.5901]) \t 0 \t 0\n",
            "13.)  tensor([-52.5867,  -9.7165]) \t 1 \t 1\n",
            "14.)  tensor([ -8.4653, -13.6696]) \t 0 \t 0\n",
            "15.)  tensor([-26.4893,  -9.9426]) \t 1 \t 1\n",
            "16.)  tensor([ -7.7191, -12.3259]) \t 0 \t 0\n",
            "17.)  tensor([-16.8201,  -6.4563]) \t 1 \t 1\n",
            "18.)  tensor([ -6.3179, -12.7281]) \t 0 \t 0\n",
            "19.)  tensor([-10.6771, -17.6760]) \t 0 \t 0\n",
            "20.)  tensor([ -3.3015, -12.0262]) \t 0 \t 0\n",
            "21.)  tensor([ -5.5560, -14.6767]) \t 0 \t 0\n",
            "22.)  tensor([ -4.5223, -12.0934]) \t 0 \t 0\n",
            "23.)  tensor([-16.3860,  -7.8913]) \t 1 \t 1\n",
            "24.)  tensor([-27.9050, -16.2685]) \t 1 \t 1\n",
            "25.)  tensor([ -6.5037, -12.1133]) \t 0 \t 0\n",
            "26.)  tensor([ -5.7662, -10.5052]) \t 0 \t 0\n",
            "27.)  tensor([-28.5262,  -9.8650]) \t 1 \t 1\n",
            "28.)  tensor([-1.9086, -8.9191]) \t 0 \t 0\n",
            "29.)  tensor([ -6.3204, -16.0343]) \t 0 \t 0\n",
            "30.)  tensor([-11.6134, -11.4952]) \t 1 \t 1\n",
            "31.)  tensor([-42.9007, -10.3117]) \t 1 \t 1\n",
            "32.)  tensor([ -8.6016, -13.0481]) \t 0 \t 0\n",
            "33.)  tensor([-52.8431, -16.0034]) \t 1 \t 1\n",
            "34.)  tensor([-18.6605, -10.7809]) \t 1 \t 1\n",
            "35.)  tensor([-14.2187, -11.3631]) \t 1 \t 1\n",
            "36.)  tensor([-37.1868, -13.7225]) \t 1 \t 1\n",
            "37.)  tensor([-1.1434, -8.5564]) \t 0 \t 0\n",
            "38.)  tensor([ -8.6365, -14.5120]) \t 0 \t 0\n",
            "39.)  tensor([-0.7891, -8.2991]) \t 0 \t 0\n",
            "40.)  tensor([ -6.7028, -14.7664]) \t 0 \t 0\n",
            "41.)  tensor([-38.5720, -14.1365]) \t 1 \t 1\n",
            "42.)  tensor([ -5.8863, -12.0464]) \t 0 \t 0\n",
            "43.)  tensor([-6.2827, -4.1687]) \t 0 \t 1\n",
            "44.)  tensor([ -8.3971, -14.4060]) \t 0 \t 0\n",
            "45.)  tensor([-1.0781, -8.4763]) \t 0 \t 0\n",
            "46.)  tensor([ -9.9589, -15.9052]) \t 0 \t 0\n",
            "47.)  tensor([ -5.9653, -16.4108]) \t 0 \t 0\n",
            "48.)  tensor([-21.3495, -15.6254]) \t 1 \t 1\n",
            "49.)  tensor([-10.6884, -14.9849]) \t 0 \t 0\n",
            "50.)  tensor([-28.7763, -12.4051]) \t 1 \t 1\n",
            "51.)  tensor([-2.2223, -5.1613]) \t 0 \t 0\n",
            "52.)  tensor([ -7.5010, -12.5180]) \t 0 \t 0\n",
            "53.)  tensor([ -3.5181, -12.5635]) \t 0 \t 0\n",
            "54.)  tensor([ -3.3102, -14.5110]) \t 0 \t 0\n",
            "55.)  tensor([ -4.9470, -11.5349]) \t 0 \t 0\n",
            "56.)  tensor([-3.0741, -8.7674]) \t 0 \t 0\n",
            "57.)  tensor([-1.2827, -9.1947]) \t 0 \t 0\n",
            "58.)  tensor([-23.5981, -12.1031]) \t 1 \t 1\n",
            "59.)  tensor([ -1.6595, -11.0145]) \t 0 \t 0\n",
            "60.)  tensor([ -7.1338, -11.0785]) \t 0 \t 0\n",
            "61.)  tensor([-16.8621, -10.7226]) \t 1 \t 1\n",
            "62.)  tensor([ -1.7611, -11.8212]) \t 0 \t 0\n",
            "63.)  tensor([ -4.4377, -12.0326]) \t 0 \t 0\n",
            "64.)  tensor([ -5.4786, -13.9928]) \t 0 \t 0\n",
            "65.)  tensor([-8.7939, -6.9087]) \t 1 \t 1\n",
            "66.)  tensor([-12.5944,  -8.7783]) \t 1 \t 1\n",
            "67.)  tensor([ -4.2425, -11.1138]) \t 0 \t 0\n",
            "68.)  tensor([-34.9869, -14.4337]) \t 1 \t 1\n",
            "69.)  tensor([ -5.5588, -13.8703]) \t 0 \t 0\n",
            "70.)  tensor([ -5.9677, -11.6432]) \t 0 \t 0\n",
            "71.)  tensor([ -9.7877, -12.8411]) \t 0 \t 0\n",
            "72.)  tensor([ -3.3921, -11.1481]) \t 0 \t 0\n",
            "73.)  tensor([ -4.5961, -12.0816]) \t 0 \t 0\n",
            "74.)  tensor([ -8.5511, -11.7701]) \t 0 \t 0\n",
            "75.)  tensor([-21.8572, -13.9385]) \t 1 \t 1\n",
            "76.)  tensor([ -1.4318, -10.2320]) \t 0 \t 0\n",
            "77.)  tensor([-11.5077, -14.6207]) \t 0 \t 0\n",
            "78.)  tensor([-19.8103,  -7.8139]) \t 1 \t 1\n",
            "79.)  tensor([ -4.1241, -14.3200]) \t 0 \t 0\n",
            "80.)  tensor([ -5.1210, -16.2255]) \t 0 \t 0\n",
            "81.)  tensor([ -8.6854, -16.6673]) \t 0 \t 0\n",
            "82.)  tensor([-17.4686, -15.8195]) \t 1 \t 1\n",
            "83.)  tensor([ -6.9895, -13.5426]) \t 0 \t 0\n",
            "84.)  tensor([-21.0270, -11.7727]) \t 1 \t 1\n",
            "85.)  tensor([ -2.4992, -14.5948]) \t 0 \t 0\n",
            "86.)  tensor([ -9.5285, -14.7626]) \t 0 \t 0\n",
            "87.)  tensor([-12.4839, -11.5887]) \t 0 \t 1\n",
            "88.)  tensor([ -5.2183, -16.2724]) \t 0 \t 0\n",
            "89.)  tensor([ -3.0073, -12.1664]) \t 0 \t 0\n",
            "90.)  tensor([-13.9238, -10.8587]) \t 1 \t 1\n",
            "91.)  tensor([-19.2776, -12.5921]) \t 1 \t 1\n",
            "92.)  tensor([ -7.9331, -12.4602]) \t 0 \t 0\n",
            "93.)  tensor([-38.5646, -14.7043]) \t 1 \t 1\n",
            "94.)  tensor([-10.3362, -13.5466]) \t 0 \t 0\n",
            "95.)  tensor([-32.1831, -13.9189]) \t 1 \t 1\n",
            "96.)  tensor([ -1.5008, -11.0484]) \t 0 \t 0\n",
            "97.)  tensor([ -3.7137, -13.4979]) \t 0 \t 0\n",
            "98.)  tensor([-13.6808, -14.6916]) \t 1 \t 0\n",
            "99.)  tensor([-14.7235, -14.7127]) \t 1 \t 1\n",
            "100.)  tensor([-11.5702, -12.8765]) \t 1 \t 0\n",
            "101.)  tensor([ -3.8787, -11.9373]) \t 0 \t 0\n",
            "102.)  tensor([ -7.3219, -14.7329]) \t 0 \t 0\n",
            "103.)  tensor([ -9.8316, -15.4047]) \t 0 \t 0\n",
            "104.)  tensor([-29.4844, -11.9912]) \t 1 \t 1\n",
            "105.)  tensor([ -1.3495, -10.9804]) \t 0 \t 0\n",
            "106.)  tensor([-44.5242, -10.2058]) \t 1 \t 1\n",
            "107.)  tensor([ -6.1089, -10.8901]) \t 0 \t 0\n",
            "108.)  tensor([ -6.9325, -16.6045]) \t 0 \t 0\n",
            "109.)  tensor([-10.5062, -13.7466]) \t 1 \t 0\n",
            "110.)  tensor([-122.6813,   11.7691]) \t 1 \t 1\n",
            "111.)  tensor([ -8.7455, -16.2137]) \t 0 \t 0\n",
            "112.)  tensor([-36.8511,  -6.9948]) \t 1 \t 1\n",
            "113.)  tensor([-18.2045,  -9.9424]) \t 1 \t 1\n",
            "114.)  tensor([ -2.4844, -14.4492]) \t 0 \t 0\n",
            "We got 109/114 correct!\n"
          ]
        }
      ]
    },
    {
      "cell_type": "code",
      "source": [],
      "metadata": {
        "id": "W1i3jINscfDH"
      },
      "execution_count": 44,
      "outputs": []
    }
  ]
}